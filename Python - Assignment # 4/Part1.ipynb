{
 "cells": [
  {
   "cell_type": "code",
   "execution_count": 1,
   "metadata": {},
   "outputs": [
    {
     "name": "stdout",
     "output_type": "stream",
     "text": [
      "first_name : Abdullah\n",
      "last_name : Hameed\n",
      "age : 24\n",
      "city : Karachi\n"
     ]
    },
    {
     "data": {
      "text/plain": [
       "{'first_name': 'Abdullah', 'last_name': 'Hameed', 'age': 24, 'city': 'Karachi'}"
      ]
     },
     "execution_count": 1,
     "metadata": {},
     "output_type": "execute_result"
    }
   ],
   "source": [
    "# making dictionary\n",
    "person = {\n",
    "    'first_name' : 'Abdullah',\n",
    "    'last_name': 'Hameed',\n",
    "    'age': 24,\n",
    "    'city': 'Karachi',\n",
    "};\n",
    "\n",
    "# printing the dictionary's values\n",
    "for key,value in person.items():\n",
    "    print(key,':',value)\n",
    "\n",
    "# adding new key value pair\n",
    "person['Qualification'] = 'Intermediate'\n",
    "\n",
    "# updating the qualification value\n",
    "person['Qualification'] = 'BS Software Engineering'\n",
    "# deleting qualification\n",
    "del person['Qualification']\n",
    " # final output\n",
    "person"
   ]
  },
  {
   "cell_type": "code",
   "execution_count": null,
   "metadata": {},
   "outputs": [],
   "source": []
  }
 ],
 "metadata": {
  "kernelspec": {
   "display_name": "Python 3",
   "language": "python",
   "name": "python3"
  },
  "language_info": {
   "codemirror_mode": {
    "name": "ipython",
    "version": 3
   },
   "file_extension": ".py",
   "mimetype": "text/x-python",
   "name": "python",
   "nbconvert_exporter": "python",
   "pygments_lexer": "ipython3",
   "version": "3.7.4"
  }
 },
 "nbformat": 4,
 "nbformat_minor": 2
}
