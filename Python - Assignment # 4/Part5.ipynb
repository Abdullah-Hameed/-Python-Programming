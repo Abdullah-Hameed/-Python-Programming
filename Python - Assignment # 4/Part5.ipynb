{
 "cells": [
  {
   "cell_type": "code",
   "execution_count": null,
   "metadata": {},
   "outputs": [],
   "source": [
    "import random\n",
    " \n",
    "min=1\n",
    "max=30\n",
    "random.randint(1,30)\n",
    "correct_answer = int(input())\n",
    "print(\"1<?<30\")\n",
    "guess= int(input())\n",
    " \n",
    "while guess != correct_answer:\n",
    "   more_attempts=int(input())\n",
    "   if guess>correct_answer:\n",
    "       print(\"wrong answer, guess smaller\",\"{0}<?<{1}\".format(min,max),sep='\\n')\n",
    "   elif guess<correct_answer:\n",
    "       print(\"wrong answer, guess larger\", \"{0}<?<{1}\".format(min,max),sep='\\n')\n",
    "   else:\n",
    "       guess == correct_answer\n",
    "       print(\"bingo answer is\",guess)\n",
    "       break"
   ]
  },
  {
   "cell_type": "code",
   "execution_count": null,
   "metadata": {},
   "outputs": [],
   "source": []
  },
  {
   "cell_type": "code",
   "execution_count": null,
   "metadata": {},
   "outputs": [],
   "source": []
  }
 ],
 "metadata": {
  "kernelspec": {
   "display_name": "Python 3",
   "language": "python",
   "name": "python3"
  },
  "language_info": {
   "codemirror_mode": {
    "name": "ipython",
    "version": 3
   },
   "file_extension": ".py",
   "mimetype": "text/x-python",
   "name": "python",
   "nbconvert_exporter": "python",
   "pygments_lexer": "ipython3",
   "version": "3.7.4"
  }
 },
 "nbformat": 4,
 "nbformat_minor": 2
}
